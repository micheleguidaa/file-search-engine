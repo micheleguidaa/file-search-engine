{
 "cells": [
  {
   "cell_type": "code",
   "execution_count": 8,
   "id": "e61f0ef4",
   "metadata": {},
   "outputs": [
    {
     "name": "stdout",
     "output_type": "stream",
     "text": [
      "Creati 5939 file di ricette nella cartella 'files'.\n"
     ]
    }
   ],
   "source": [
    "# Conversione ricette: CSV -> file di testo per ricetta (robusto)\n",
    "import os\n",
    "import re\n",
    "import pandas as pd\n",
    "\n",
    "# Carica il dataset\n",
    "df = pd.read_csv(\"dataset/recipe.csv\", index_col=0)\n",
    "\n",
    "# Mantieni solo le colonne utili\n",
    "df = df[[\"Nome\", \"Steps\"]].copy()\n",
    "\n",
    "# Crea la cartella di files se non esiste\n",
    "output_dir = \"files\"\n",
    "os.makedirs(output_dir, exist_ok=True)\n",
    "\n",
    "# Pulisce eventuali file vecchi\n",
    "for filename in os.listdir(output_dir):\n",
    "    file_path = os.path.join(output_dir, filename)\n",
    "    if os.path.isfile(file_path):\n",
    "        os.remove(file_path)\n",
    "\n",
    "# Crea file di testo per ogni ricetta\n",
    "for idx, row in df.iterrows():\n",
    "    recipe_name = str(row[\"Nome\"]).strip()\n",
    "\n",
    "    # Rimuove caratteri illegali dai nomi file\n",
    "    recipe_name = re.sub(r'[\\\\/*?:\"<>|]', \"_\", recipe_name)\n",
    "\n",
    "    # Converte in stringa e sostituisce NaN con vuoto\n",
    "    steps = \"\" if pd.isna(row[\"Steps\"]) else str(row[\"Steps\"]).strip()\n",
    "\n",
    "    file_path = os.path.join(output_dir, f\"{recipe_name}.txt\")\n",
    "    with open(file_path, \"w\", encoding=\"utf-8\") as f:\n",
    "        f.write(steps)\n",
    "\n",
    "print(f\"Creati {len(df)} file di ricette nella cartella '{output_dir}'.\")"
   ]
  }
 ],
 "metadata": {
  "kernelspec": {
   "display_name": ".venv",
   "language": "python",
   "name": "python3"
  },
  "language_info": {
   "codemirror_mode": {
    "name": "ipython",
    "version": 3
   },
   "file_extension": ".py",
   "mimetype": "text/x-python",
   "name": "python",
   "nbconvert_exporter": "python",
   "pygments_lexer": "ipython3",
   "version": "3.13.9"
  }
 },
 "nbformat": 4,
 "nbformat_minor": 5
}
