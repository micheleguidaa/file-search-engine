{
 "cells": [
  {
   "cell_type": "markdown",
   "id": "049016d9",
   "metadata": {},
   "source": [
    "# Recipe Conversion — CSV → One Text File per Recipe\n",
    "\n",
    "This Python script converts a CSV dataset of recipes into individual `.txt` files — one per recipe.  \n",
    "It automatically cleans file names, removes old files, and ensures a robust workflow.\n"
   ]
  },
  {
   "cell_type": "code",
   "execution_count": 1,
   "id": "e61f0ef4",
   "metadata": {},
   "outputs": [
    {
     "name": "stdout",
     "output_type": "stream",
     "text": [
      "Created 5939 recipe files in the 'files' folder.\n"
     ]
    }
   ],
   "source": [
    "# Recipe Conversion: CSV -> one text file per recipe (robust)\n",
    "import os\n",
    "import re\n",
    "import pandas as pd\n",
    "\n",
    "# Load the dataset\n",
    "df = pd.read_csv(\"dataset/recipe.csv\", index_col=0)\n",
    "\n",
    "# Keep only the useful columns\n",
    "df = df[[\"Nome\", \"Steps\"]].copy()\n",
    "\n",
    "# Create the output folder if it doesn't exist\n",
    "output_dir = \"files\"\n",
    "os.makedirs(output_dir, exist_ok=True)\n",
    "\n",
    "# Clean up any old files in the folder\n",
    "for filename in os.listdir(output_dir):\n",
    "    file_path = os.path.join(output_dir, filename)\n",
    "    if os.path.isfile(file_path):\n",
    "        os.remove(file_path)\n",
    "\n",
    "# Create one text file per recipe\n",
    "for idx, row in df.iterrows():\n",
    "    recipe_name = str(row[\"Nome\"]).strip()\n",
    "\n",
    "    # Remove illegal characters from file names\n",
    "    recipe_name = re.sub(r'[\\\\/*?:\"<>|]', \"_\", recipe_name)\n",
    "\n",
    "    # Convert to string and replace NaN with an empty string\n",
    "    steps = \"\" if pd.isna(row[\"Steps\"]) else str(row[\"Steps\"]).strip()\n",
    "\n",
    "    file_path = os.path.join(output_dir, f\"{recipe_name}.txt\")\n",
    "    with open(file_path, \"w\", encoding=\"utf-8\") as f:\n",
    "        f.write(steps)\n",
    "\n",
    "print(f\"Created {len(df)} recipe files in the '{output_dir}' folder.\")"
   ]
  }
 ],
 "metadata": {
  "kernelspec": {
   "display_name": ".venv",
   "language": "python",
   "name": "python3"
  },
  "language_info": {
   "codemirror_mode": {
    "name": "ipython",
    "version": 3
   },
   "file_extension": ".py",
   "mimetype": "text/x-python",
   "name": "python",
   "nbconvert_exporter": "python",
   "pygments_lexer": "ipython3",
   "version": "3.13.9"
  }
 },
 "nbformat": 4,
 "nbformat_minor": 5
}
