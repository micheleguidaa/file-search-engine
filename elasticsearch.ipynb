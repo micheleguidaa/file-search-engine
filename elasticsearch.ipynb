{
 "cells": [
  {
   "cell_type": "code",
   "execution_count": 110,
   "id": "defa1041",
   "metadata": {},
   "outputs": [],
   "source": [
    "from elasticsearch import Elasticsearch, helpers\n",
    "import os\n",
    "\n",
    "# Connect to Elasticsearch\n",
    "ES_HOST = \"http://localhost:9200\"\n",
    "es = Elasticsearch([ES_HOST])"
   ]
  },
  {
   "cell_type": "code",
   "execution_count": 111,
   "id": "538d7bb6",
   "metadata": {},
   "outputs": [],
   "source": [
    "# Delete the index if it exists\n",
    "if es.indices.exists(index='index_recipes'):\n",
    "    es.indices.delete(index='index_recipes')"
   ]
  },
  {
   "cell_type": "code",
   "execution_count": 112,
   "id": "08252afe",
   "metadata": {},
   "outputs": [
    {
     "name": "stdout",
     "output_type": "stream",
     "text": [
      "Index 'index_recipes' with mapping created successfully.\n"
     ]
    }
   ],
   "source": [
    "# Define the mapping for the index\n",
    "mapping = {\n",
    "    \"mappings\": {\n",
    "        \"properties\": {\n",
    "            \"title\": {\"type\": \"text\",\n",
    "                      \"analyzer\": \"italian\",\n",
    "                      \"search_analyzer\": \"italian\"},\n",
    "            \"content\": {\"type\": \"text\", \n",
    "                        \"analyzer\": \"italian\",\n",
    "                        \"search_analyzer\": \"italian\"}\n",
    "        }\n",
    "    }\n",
    "}\n",
    "\n",
    "es.indices.create(index='index_recipes', body=mapping)\n",
    "print(\"Index 'index_recipes' with mapping created successfully.\")"
   ]
  },
  {
   "cell_type": "code",
   "execution_count": 113,
   "id": "ffa74d74",
   "metadata": {},
   "outputs": [],
   "source": [
    "def bulk_index(directory, index_name):\n",
    "    actions = []\n",
    "\n",
    "    for filename in os.listdir(directory):\n",
    "        if filename.endswith(\".txt\"):\n",
    "            path = os.path.join(directory, filename)\n",
    "            with open(path, \"r\", encoding=\"utf-8\", errors=\"ignore\") as f:\n",
    "                text = f.read()\n",
    "\n",
    "            # Remove file extension for title\n",
    "            title = os.path.splitext(filename)[0]\n",
    "            \n",
    "            action = {\n",
    "                \"_index\": index_name,\n",
    "                \"_source\": {\n",
    "                    \"title\": title,\n",
    "                    \"content\": text\n",
    "                }\n",
    "            }\n",
    "            actions.append(action)\n",
    "\n",
    "    # Bulk index the documents with only one call to Elasticsearch\n",
    "    if actions:\n",
    "        helpers.bulk(es, actions)\n",
    "        print(f\"{len(actions)} documents indexed in the '{index_name}' index.\")\n",
    "    else:\n",
    "        print(\"No .txt files found in the directory.\")"
   ]
  },
  {
   "cell_type": "code",
   "execution_count": 114,
   "id": "f125dc4f",
   "metadata": {},
   "outputs": [
    {
     "name": "stdout",
     "output_type": "stream",
     "text": [
      "1000 documents indexed in the 'index_recipes' index.\n"
     ]
    }
   ],
   "source": [
    "# Index documents from the 'files' directory\n",
    "bulk_index(\"files\", \"index_recipes\")"
   ]
  },
  {
   "cell_type": "code",
   "execution_count": 115,
   "id": "1811f7de",
   "metadata": {},
   "outputs": [],
   "source": [
    "def search(query):\n",
    "   res = es.search(index='index_recipes', body=query)\n",
    "   print(\"Search Results:\")\n",
    "   for i, hit in enumerate(res['hits']['hits']):\n",
    "    res_doc = hit['_source']\n",
    "    print(f\"{i+1}. Title: {res_doc['title']}\\n   Content: {res_doc['content']}\\n\")"
   ]
  },
  {
   "cell_type": "code",
   "execution_count": null,
   "id": "db77c3d1",
   "metadata": {},
   "outputs": [
    {
     "name": "stdout",
     "output_type": "stream",
     "text": [
      "Search Results:\n",
      "1. Title: Smoothie di mele, carote e zenzero\n",
      "   Content: Per preparare lo smoothie di mele, carote e zenzero ponete in freezer la banana e lasciate che si congeli. Intanto lavate le mele, tagliatele a metà eliminate il torsolo e tagliatele a pezzi Ponetele in una ciotola e irrorate con del succo di arancia Lavate, poi eliminate le estremità della carota tagliatela a tocchi grossolani. Sbucciate la radice di zenzero Sbucciate la banana, oramai congelata e tagliatela a pezzi Ora nel bicchiere di un frullatore versate le mele con il succo d'arancia le carote, la banana, lo yogurt Frullate il tutto In una padella versate le mandorle a lamelle, i semi di chia i corn flakes Unite anche lo zucchero moscovado Versate il mix in una ciotola per far raffreddare Per ultimo, tagliate 100 g di mela a pezzetti, irroratela con del succo di limone per non farla annerire. Quindi versate lo smoothie in 4 ciotole Il vostro smoothie di mele, carote e zenzero è pronto per essere gustato \n",
      "\n",
      "2. Title: Acai bowl\n",
      "   Content: Per preparare l’acai bowl, per prima cosa versate lo yogurt greco in una ciotola insieme al latte di cocco poi aggiungete la polvere di acai Dolcificate il composto di yogurt con il miele poi trasferitelo in una ciotola da portata. La consistenza finale deve essere cremosa e omogenea, abbastanza densa da non colare dal cucchiaio, ma non troppo compatta Ora tagliate il cocco fresco a lamelle poi sbucciate la banana Distribuite i cornflakes sopra lo yogurt \n",
      "\n"
     ]
    }
   ],
   "source": [
    "# search({\"query\": {\"match_all\": {}}})\n",
    "# search({\"query\": {\"match\": {\"title\": \"burro e salvia\"}}})\n",
    "# search({\"query\": {\"match\": {\"content\": \"banane\"}}})\n",
    "# search({\"query\": {\"multi_match\": {\"query\": \"burro\", \"fields\": [\"title\",\"content\"]}}})\n",
    "# search({\"query\": {\"match_phrase\": {\"content\": \"dalla\"}}})"
   ]
  },
  {
   "cell_type": "code",
   "execution_count": 162,
   "id": "3d0ace94",
   "metadata": {},
   "outputs": [
    {
     "name": "stdout",
     "output_type": "stream",
     "text": [
      "Search Results:\n",
      "1. Title: Uova alla monachina\n",
      "   Content: Per realizzare le uova alla monachina, per prima cosa preparate le uova sode: mettete le uova integre in un pentolino, copritele con acqua fredda, accendete il fuoco e cuocete per 9 minuti a partire dal bollore Trascorso questo tempo, passate il pentolino sotto l’acqua corrente per raffreddarle e fermare la cottura. Mentre le uova cuociono potete occuparvi della besciamella: fate sciogliere il burro a fuoco dolce in un pentolino poi aggiungete la farina tutta in una volta Quando la farina avrà assunto un colore dorato, versate il latte in più riprese e continuate a mescolare fino ad ottenere un composto piuttosto denso. Una volta pronta, spegnete il fuoco e insaporite la besciamella con sale pepe e Parmigiano mescolando ancora per amalgamare il tutto.Sgusciate delicatamente le uova sode dividetele a metà Setacciate i tuorli schiacciandoli con una spatola attraverso le maglie di un colino che avrete posizionato sopra una ciotola poi aggiungete la besciamella A questo punto farcite le uova svuotate con il composto ottenuto Passate le uova farcite prima nella farina poi nell’uovo sbattuto Portate l’olio di semi a una temperatura di 160° e friggete un uovo per volta per circa un minuto Le vostre uova alla monachina sono pronte per essere servite ancora calde \n",
      "\n"
     ]
    }
   ],
   "source": [
    "# Ask to user to insert a query\n",
    "query = input(\"Enter your search query: \")\n",
    "\n",
    "# Parsing the user input into a match query for content field\n",
    "type_query = query.split(\":\", 1)[0]\n",
    "content_query = query.split(\":\", 1)[1].strip()\n",
    "\n",
    "if type_query == \"title\":\n",
    "    if content_query.startswith('\"') and content_query.endswith('\"'):\n",
    "        phrase = content_query.strip('\"')\n",
    "        search({\"query\": {\"match_phrase\": {\"title\": phrase}}})\n",
    "    else:\n",
    "        search({\"query\": {\"match\": {\"title\": content_query}}})\n",
    "elif type_query == \"content\":\n",
    "    if content_query.startswith('\"') and content_query.endswith('\"'):\n",
    "        phrase = content_query.strip('\"')\n",
    "        search({\"query\": {\"match_phrase\": {\"content\": phrase}}})\n",
    "    else:\n",
    "        search({\"query\": {\"match\": {\"content\": content_query}}})"
   ]
  }
 ],
 "metadata": {
  "kernelspec": {
   "display_name": ".venv",
   "language": "python",
   "name": "python3"
  },
  "language_info": {
   "codemirror_mode": {
    "name": "ipython",
    "version": 3
   },
   "file_extension": ".py",
   "mimetype": "text/x-python",
   "name": "python",
   "nbconvert_exporter": "python",
   "pygments_lexer": "ipython3",
   "version": "3.13.9"
  }
 },
 "nbformat": 4,
 "nbformat_minor": 5
}
