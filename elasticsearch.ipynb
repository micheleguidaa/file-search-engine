{
 "cells": [
  {
   "cell_type": "code",
   "execution_count": null,
   "id": "defa1041",
   "metadata": {},
   "outputs": [],
   "source": [
    "from elasticsearch import Elasticsearch, helpers\n",
    "import os\n",
    "\n",
    "# Connect to Elasticsearch\n",
    "ES_HOST = \"http://localhost:9200\"\n",
    "es = Elasticsearch([ES_HOST])"
   ]
  },
  {
   "cell_type": "code",
   "execution_count": 45,
   "id": "538d7bb6",
   "metadata": {},
   "outputs": [],
   "source": [
    "# Delete the index if it exists\n",
    "if es.indices.exists(index='index_recipes'):\n",
    "    es.indices.delete(index='index_recipes')"
   ]
  },
  {
   "cell_type": "code",
   "execution_count": null,
   "id": "08252afe",
   "metadata": {},
   "outputs": [
    {
     "name": "stdout",
     "output_type": "stream",
     "text": [
      "Index 'index_recipes' with mapping created successfully.\n"
     ]
    }
   ],
   "source": [
    "# Define the mapping for the index\n",
    "mapping = {\n",
    "    \"mappings\": {\n",
    "        \"properties\": {\n",
    "            \"title\": {\"type\": \"text\"},\n",
    "            \"content\": {\"type\": \"text\", \n",
    "                        \"analyzer\": \"standard\",\n",
    "                        \"search_analyzer\": \"standard\"}\n",
    "        }\n",
    "    }\n",
    "}\n",
    "\n",
    "es.indices.create(index='index_recipes', body=mapping)\n",
    "print(\"Index 'index_recipes' with mapping created successfully.\")"
   ]
  },
  {
   "cell_type": "code",
   "execution_count": 51,
   "id": "ffa74d74",
   "metadata": {},
   "outputs": [],
   "source": [
    "def bulk_index(directory, index_name):\n",
    "    actions = []\n",
    "\n",
    "    for filename in os.listdir(directory):\n",
    "        if filename.endswith(\".txt\"):\n",
    "            path = os.path.join(directory, filename)\n",
    "            with open(path, \"r\", encoding=\"utf-8\", errors=\"ignore\") as f:\n",
    "                text = f.read()\n",
    "\n",
    "            action = {\n",
    "                \"_index\": index_name,\n",
    "                \"_source\": {\n",
    "                    \"title\": filename,\n",
    "                    \"content\": text\n",
    "                }\n",
    "            }\n",
    "            actions.append(action)\n",
    "\n",
    "    # Bulk index the documents with only one call to Elasticsearch\n",
    "    if actions:\n",
    "        helpers.bulk(es, actions)\n",
    "        print(f\"{len(actions)} documents indexed in the '{index_name}' index.\")\n",
    "    else:\n",
    "        print(\"No .txt files found in the directory.\")"
   ]
  },
  {
   "cell_type": "code",
   "execution_count": 52,
   "id": "f125dc4f",
   "metadata": {},
   "outputs": [
    {
     "name": "stdout",
     "output_type": "stream",
     "text": [
      "100 documents indexed in the 'index_recipes' index.\n"
     ]
    }
   ],
   "source": [
    "bulk_index(\"files\", \"index_recipes\")"
   ]
  },
  {
   "cell_type": "code",
   "execution_count": 53,
   "id": "1811f7de",
   "metadata": {},
   "outputs": [
    {
     "name": "stdout",
     "output_type": "stream",
     "text": [
      "Search Results:\n",
      "1. Title: Crostino con uova alla benedict e pancetta.txt\n",
      "   Content: Per preparare il crostino con uova alla benedict e pancetta, iniziate dalla salsa olandese: prendete il burro chiarificato, scioglietelo in un pentolino o nel microonde e tenetelo da parte. Con uno coltellino a lama liscia tritate finemente lo scalogno In un pentolino versate l’aceto l’acqua, il pepe in grani e lo scalogno e fate bollire il composto Filtrate il liquido fatto bollire, trasferendolo in una casseruola a bagnomaria (oppure predisponete un bagnomaria classico, se non si possiede una casseruola con il bagnomaria incorporato) Aggiungete anche i tuorli e muniti di frusta sbattete il composto avendo cura di continuare a sbattere costantemente, finché tutto il burro non sarà incorporato e la salsa risulterà “montata” (questa operazione richiederà più o meno 6 minuti).A questo punto togliete la casseruola dal fuoco e aggiungete il succo di limone Mettete da parte la salsa mantenendola in caldo, o trasferendola in una ciotola (a temperatura ambiente, non in frigorifero). Tostate il pan brioche in forno in padella con un filo d’olio da entrambi i lati sino a renderlo dorato e croccante Saltate in padella la pancetta a dadini finchè non saranno croccanti. Scolateli su un vassoio rivestito con carta assorbente Per ultimo dedicatevi alla cottura delle uova, così da servirle calde. In una pentola versate l’acqua e l’aceto ponetela a scaldare e, nel frattempo, rompete l'uovo in una ciotolina a parte, facendo attenzione a non danneggiare il tuorlo. Una volta che l'acqua avrà raggiunto il bollore, mescolate con una frusta per creare un vortice al centro del quale verserete l'uovo intero Attendete che l’uovo emerga leggermente. Prima di poter togliere l’uovo dall’acqua attendete un paio di minuti. Tiratelo su con la schiumarola poggiatelo su un piatto e ripetete la stessa operazione per le uova restanti. Ora componete le vostre uova alla benedettina: adagiate la rucola sul pan brioche tostato adagiate sopra l’uovo ancora tiepido Pepate a piacere e decorate il crostino con la pancetta a cubetti \n",
      "\n",
      "2. Title: Crostino con uova alla benedict e pancetta.txt\n",
      "   Content: Per preparare il crostino con uova alla benedict e pancetta, iniziate dalla salsa olandese: prendete il burro chiarificato, scioglietelo in un pentolino o nel microonde e tenetelo da parte. Con uno coltellino a lama liscia tritate finemente lo scalogno In un pentolino versate l’aceto l’acqua, il pepe in grani e lo scalogno e fate bollire il composto Filtrate il liquido fatto bollire, trasferendolo in una casseruola a bagnomaria (oppure predisponete un bagnomaria classico, se non si possiede una casseruola con il bagnomaria incorporato) Aggiungete anche i tuorli e muniti di frusta sbattete il composto avendo cura di continuare a sbattere costantemente, finché tutto il burro non sarà incorporato e la salsa risulterà “montata” (questa operazione richiederà più o meno 6 minuti).A questo punto togliete la casseruola dal fuoco e aggiungete il succo di limone Mettete da parte la salsa mantenendola in caldo, o trasferendola in una ciotola (a temperatura ambiente, non in frigorifero). Tostate il pan brioche in forno in padella con un filo d’olio da entrambi i lati sino a renderlo dorato e croccante Saltate in padella la pancetta a dadini finchè non saranno croccanti. Scolateli su un vassoio rivestito con carta assorbente Per ultimo dedicatevi alla cottura delle uova, così da servirle calde. In una pentola versate l’acqua e l’aceto ponetela a scaldare e, nel frattempo, rompete l'uovo in una ciotolina a parte, facendo attenzione a non danneggiare il tuorlo. Una volta che l'acqua avrà raggiunto il bollore, mescolate con una frusta per creare un vortice al centro del quale verserete l'uovo intero Attendete che l’uovo emerga leggermente. Prima di poter togliere l’uovo dall’acqua attendete un paio di minuti. Tiratelo su con la schiumarola poggiatelo su un piatto e ripetete la stessa operazione per le uova restanti. Ora componete le vostre uova alla benedettina: adagiate la rucola sul pan brioche tostato adagiate sopra l’uovo ancora tiepido Pepate a piacere e decorate il crostino con la pancetta a cubetti \n",
      "\n",
      "3. Title: Ciambella al cocco.txt\n",
      "   Content: Per realizzare la ciambella al cocco versate le uova intere in una ciotola ampia aggiungete lo zucchero Quando il composto sarà chiaro e spumoso versate il latte di cocco una volta incorporato unite anche il cocco rapè la farina setacciata e anche il lievito setacciato Una volta amalgamato versate l'impasto in uno stampo da ciambela del diametro di 20 cm e altezza 10 cm Cuocete quindi sformatelo su un piatto Guarnite con zucchero a velo La ciambella al cocco è pronta per essere gustata \n",
      "\n",
      "4. Title: Ciambella al cocco.txt\n",
      "   Content: Per realizzare la ciambella al cocco versate le uova intere in una ciotola ampia aggiungete lo zucchero Quando il composto sarà chiaro e spumoso versate il latte di cocco una volta incorporato unite anche il cocco rapè la farina setacciata e anche il lievito setacciato Una volta amalgamato versate l'impasto in uno stampo da ciambela del diametro di 20 cm e altezza 10 cm Cuocete quindi sformatelo su un piatto Guarnite con zucchero a velo La ciambella al cocco è pronta per essere gustata \n",
      "\n",
      "5. Title: Mini plumcake allo yogurt e mirtilli rossi.txt\n",
      "   Content: Per preparare i mini plumcake allo yogurt ai mirtilli rossi, sciogliete il burro a fuoco molto dolce e lasciate intiepidire. Versate in una ciotola lo zucchero di canna, le uova dovrete ottenere un composto uniforme e spumoso. Aggiungete il burro precedentemente sciolto Quando il burro sarà incorporato, unite i due vasetti di yogurt ai mirtilli rossi (4-5), infine la farina ed il lievito setacciati Lavorate ancora con le fruste Versate il composto ottenuto in una sac-à-poche Imburrate 8 stampini da plumcake da 7X4 cm versate l’impasto arrivando ad 1 cm dal bordo Cuocete in forno statico preriscaldato, nel ripiano medio, a 185° per circa 25 min, sino a che la superficie risulterà ben dorata. Sfornate \n",
      "\n",
      "6. Title: Mini plumcake allo yogurt e mirtilli rossi.txt\n",
      "   Content: Per preparare i mini plumcake allo yogurt ai mirtilli rossi, sciogliete il burro a fuoco molto dolce e lasciate intiepidire. Versate in una ciotola lo zucchero di canna, le uova dovrete ottenere un composto uniforme e spumoso. Aggiungete il burro precedentemente sciolto Quando il burro sarà incorporato, unite i due vasetti di yogurt ai mirtilli rossi (4-5), infine la farina ed il lievito setacciati Lavorate ancora con le fruste Versate il composto ottenuto in una sac-à-poche Imburrate 8 stampini da plumcake da 7X4 cm versate l’impasto arrivando ad 1 cm dal bordo Cuocete in forno statico preriscaldato, nel ripiano medio, a 185° per circa 25 min, sino a che la superficie risulterà ben dorata. Sfornate \n",
      "\n",
      "7. Title: Crocchette cacio e pepe.txt\n",
      "   Content: Per preparare le crocchette cacio e pepe, per prima cosa lavate le patate, poi mettetele in un pentolino con acqua fredda Grattugiate il pecorino stagionato Quando si saranno intiepidite, aggiungete nella ciotola il pecorino grattugiato i grani di pepe pestati Impastate con le mani fino ad ottenere un composto omogeneo Aiutandovi con una ciotolina d’acqua per tenere le mani umide, prelevate una parte di impasto Versate le uova e il pangrattato per la panatura in due contenitori separati poi ancora una volta nell’uovo e nel pangrattato per ottenere una panatura più croccante.Scaldate l’olio di semi in un pentolino e portatelo alla temperatura di 170°, dopodiché immergete al massimo 2 crocchette per volta Servite le vostre crocchette cacio e pepe ancora calde, stando attenti a non scottarvi \n",
      "\n",
      "8. Title: Crocchette cacio e pepe.txt\n",
      "   Content: Per preparare le crocchette cacio e pepe, per prima cosa lavate le patate, poi mettetele in un pentolino con acqua fredda Grattugiate il pecorino stagionato Quando si saranno intiepidite, aggiungete nella ciotola il pecorino grattugiato i grani di pepe pestati Impastate con le mani fino ad ottenere un composto omogeneo Aiutandovi con una ciotolina d’acqua per tenere le mani umide, prelevate una parte di impasto Versate le uova e il pangrattato per la panatura in due contenitori separati poi ancora una volta nell’uovo e nel pangrattato per ottenere una panatura più croccante.Scaldate l’olio di semi in un pentolino e portatelo alla temperatura di 170°, dopodiché immergete al massimo 2 crocchette per volta Servite le vostre crocchette cacio e pepe ancora calde, stando attenti a non scottarvi \n",
      "\n",
      "9. Title: Naked cake alla menta.txt\n",
      "   Content: Per preparare la naked cake alla menta come prima cosa versate le uova nella ciotola di una planetaria. Iniziate a lavorare con la frusta, quindi unite un pizzico di sale Montate le uova fino ad ottenere un composto chiaro e spumoso Sempre con le fruste in azione versate lo sciroppo di menta a filo Setacciate farina e maizena direttamente all'interno della ciotola e mescolate delicatamente con una frusta mescolando dal basso verso l'alto Rivestite uno stampo a cerniera da 24 cm con la carta forno e versate l'impasto all'interno Cuocete in forno statico preriscaldato a 170° per circa 40 minuti. Sfornate la torta Preparate la crema. Montate 500 g di panna con le fruste elettriche fino a che avrete ottenuto una consistenza ferma e spumosa In un'altra ciotola versate il mascarpone, aggiungete i semini di vaniglia e lo zucchero a velo Lavorate il tutto con una frusta a mano Adesso versate i 40 g di panna in un pentolino, portatela a sfiorare il bollore a fiamma molto bassa e aggiungete la gelatina in polvere Mescolate continuamente con un cucchiaio e aspettate circa 1 minuto fino a che la gelatina sarà completamente sciolta Versatela all'interno del mescarpone A questo punto aiutandovi con una spatola aggiungete la panna montata a più riprese mescolando dal basso verso l'alto A questo punto non vi resta che assemblare il dolce. Come prima cosa realizzate delle scaglie di cioccolato Riprendete il pan di spagna ormai freddo ed eliminate la crosticina presente in superficie Utilizzando un coltello lungo a lama seghettata ricavate 3 dischi dello stesso spessore Per eliminare la crosticina sul bordo coppate ciascun disco utilizzando un anello da 20 cm Sistemate poi il primo disco all'interno di un anello da pasticceria della stessa grandezza, che avrete già posizionato su un piatto. Riprendete la crema e realizzate il primo strato Sistemate dentro un po' di cioccolato in scaglie Passate un coltellino tra l'anello e il dolce in questo modo sarà più facile estrarlo. Ricoprite con la crema la superficie della torta Lasciate rassodare la torta in frigo per almeno 30 minuti.Trasferite la crema avanzata in una ciotola, aggiungete 50 gi di panna per ammorbidirla Guarnite la superficie con le scaglie di cioccolato \n",
      "\n",
      "10. Title: Naked cake alla menta.txt\n",
      "   Content: Per preparare la naked cake alla menta come prima cosa versate le uova nella ciotola di una planetaria. Iniziate a lavorare con la frusta, quindi unite un pizzico di sale Montate le uova fino ad ottenere un composto chiaro e spumoso Sempre con le fruste in azione versate lo sciroppo di menta a filo Setacciate farina e maizena direttamente all'interno della ciotola e mescolate delicatamente con una frusta mescolando dal basso verso l'alto Rivestite uno stampo a cerniera da 24 cm con la carta forno e versate l'impasto all'interno Cuocete in forno statico preriscaldato a 170° per circa 40 minuti. Sfornate la torta Preparate la crema. Montate 500 g di panna con le fruste elettriche fino a che avrete ottenuto una consistenza ferma e spumosa In un'altra ciotola versate il mascarpone, aggiungete i semini di vaniglia e lo zucchero a velo Lavorate il tutto con una frusta a mano Adesso versate i 40 g di panna in un pentolino, portatela a sfiorare il bollore a fiamma molto bassa e aggiungete la gelatina in polvere Mescolate continuamente con un cucchiaio e aspettate circa 1 minuto fino a che la gelatina sarà completamente sciolta Versatela all'interno del mescarpone A questo punto aiutandovi con una spatola aggiungete la panna montata a più riprese mescolando dal basso verso l'alto A questo punto non vi resta che assemblare il dolce. Come prima cosa realizzate delle scaglie di cioccolato Riprendete il pan di spagna ormai freddo ed eliminate la crosticina presente in superficie Utilizzando un coltello lungo a lama seghettata ricavate 3 dischi dello stesso spessore Per eliminare la crosticina sul bordo coppate ciascun disco utilizzando un anello da 20 cm Sistemate poi il primo disco all'interno di un anello da pasticceria della stessa grandezza, che avrete già posizionato su un piatto. Riprendete la crema e realizzate il primo strato Sistemate dentro un po' di cioccolato in scaglie Passate un coltellino tra l'anello e il dolce in questo modo sarà più facile estrarlo. Ricoprite con la crema la superficie della torta Lasciate rassodare la torta in frigo per almeno 30 minuti.Trasferite la crema avanzata in una ciotola, aggiungete 50 gi di panna per ammorbidirla Guarnite la superficie con le scaglie di cioccolato \n",
      "\n"
     ]
    }
   ],
   "source": [
    "def search(query):\n",
    "   res = es.search(index='index_recipes', body=query)\n",
    "   print(\"Search Results:\")\n",
    "   for i, hit in enumerate(res['hits']['hits']):\n",
    "    res_doc = hit['_source']\n",
    "    print(f\"{i+1}. Title: {res_doc['title']}\\n   Content: {res_doc['content']}\\n\")\n",
    "\n",
    "search({\"query\": {\"match\": {\"content\": \"uova\"}}})"
   ]
  }
 ],
 "metadata": {
  "kernelspec": {
   "display_name": ".venv",
   "language": "python",
   "name": "python3"
  },
  "language_info": {
   "codemirror_mode": {
    "name": "ipython",
    "version": 3
   },
   "file_extension": ".py",
   "mimetype": "text/x-python",
   "name": "python",
   "nbconvert_exporter": "python",
   "pygments_lexer": "ipython3",
   "version": "3.13.9"
  }
 },
 "nbformat": 4,
 "nbformat_minor": 5
}
