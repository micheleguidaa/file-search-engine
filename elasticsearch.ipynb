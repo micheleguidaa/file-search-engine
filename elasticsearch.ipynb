{
 "cells": [
  {
   "cell_type": "code",
   "execution_count": 58,
   "id": "defa1041",
   "metadata": {},
   "outputs": [],
   "source": [
    "from elasticsearch import Elasticsearch, helpers\n",
    "import os\n",
    "\n",
    "# Connect to Elasticsearch\n",
    "ES_HOST = \"http://localhost:9200\"\n",
    "es = Elasticsearch([ES_HOST])"
   ]
  },
  {
   "cell_type": "code",
   "execution_count": 59,
   "id": "538d7bb6",
   "metadata": {},
   "outputs": [],
   "source": [
    "# Delete the index if it exists\n",
    "if es.indices.exists(index='index_recipes'):\n",
    "    es.indices.delete(index='index_recipes')"
   ]
  },
  {
   "cell_type": "code",
   "execution_count": 60,
   "id": "08252afe",
   "metadata": {},
   "outputs": [
    {
     "name": "stdout",
     "output_type": "stream",
     "text": [
      "Index 'index_recipes' with mapping created successfully.\n"
     ]
    }
   ],
   "source": [
    "# Define the mapping for the index\n",
    "mapping = {\n",
    "    \"mappings\": {\n",
    "        \"properties\": {\n",
    "            \"title\": {\"type\": \"text\"},\n",
    "            \"content\": {\"type\": \"text\", \n",
    "                        \"analyzer\": \"standard\",\n",
    "                        \"search_analyzer\": \"standard\"}\n",
    "        }\n",
    "    }\n",
    "}\n",
    "\n",
    "es.indices.create(index='index_recipes', body=mapping)\n",
    "print(\"Index 'index_recipes' with mapping created successfully.\")"
   ]
  },
  {
   "cell_type": "code",
   "execution_count": null,
   "id": "ffa74d74",
   "metadata": {},
   "outputs": [],
   "source": [
    "def bulk_index(directory, index_name):\n",
    "    actions = []\n",
    "\n",
    "    for filename in os.listdir(directory):\n",
    "        if filename.endswith(\".txt\"):\n",
    "            path = os.path.join(directory, filename)\n",
    "            with open(path, \"r\", encoding=\"utf-8\", errors=\"ignore\") as f:\n",
    "                text = f.read()\n",
    "\n",
    "            # Remove file extension for title\n",
    "            title = os.path.splitext(filename)[0]\n",
    "            \n",
    "            action = {\n",
    "                \"_index\": index_name,\n",
    "                \"_source\": {\n",
    "                    \"title\": title,\n",
    "                    \"content\": text\n",
    "                }\n",
    "            }\n",
    "            actions.append(action)\n",
    "\n",
    "    # Bulk index the documents with only one call to Elasticsearch\n",
    "    if actions:\n",
    "        helpers.bulk(es, actions)\n",
    "        print(f\"{len(actions)} documents indexed in the '{index_name}' index.\")\n",
    "    else:\n",
    "        print(\"No .txt files found in the directory.\")"
   ]
  },
  {
   "cell_type": "code",
   "execution_count": 62,
   "id": "f125dc4f",
   "metadata": {},
   "outputs": [
    {
     "name": "stdout",
     "output_type": "stream",
     "text": [
      "100 documents indexed in the 'index_recipes' index.\n"
     ]
    }
   ],
   "source": [
    "# Index documents from the 'files' directory\n",
    "bulk_index(\"files\", \"index_recipes\")"
   ]
  },
  {
   "cell_type": "code",
   "execution_count": 63,
   "id": "1811f7de",
   "metadata": {},
   "outputs": [],
   "source": [
    "def search(query):\n",
    "   res = es.search(index='index_recipes', body=query)\n",
    "   print(\"Search Results:\")\n",
    "   for i, hit in enumerate(res['hits']['hits']):\n",
    "    res_doc = hit['_source']\n",
    "    print(f\"{i+1}. Title: {res_doc['title']}\\n   Content: {res_doc['content']}\\n\")"
   ]
  },
  {
   "cell_type": "code",
   "execution_count": 64,
   "id": "db77c3d1",
   "metadata": {},
   "outputs": [
    {
     "name": "stdout",
     "output_type": "stream",
     "text": [
      "Search Results:\n",
      "1. Title: Braciole alle erbe con zucca e patate\n",
      "   Content: Per preparare le braciole alla erbe con zucca e patate, iniziate dal trito di erbe Mescolate gli ingredienti con le dita tagliatele a metà e poi a dadini piccoli Ricavate delle fette di zucca, eliminate la buccia e riducete anch’esse a dadini piccoli Quindi disponete nella pirofila lo strato di dadini di patate e zucca sulle braciole Irrorate la pirofila con un filo d'olio lnfornate la teglia al microonde e cuocete con programma cottura a vapore assistita modalità 3 a 190°. Quindi sfornate le braciole alle erbe con zucca e patate e servite ben calde \n",
      "\n",
      "2. Title: Crostino con uova alla benedict e pancetta\n",
      "   Content: Per preparare il crostino con uova alla benedict e pancetta, iniziate dalla salsa olandese: prendete il burro chiarificato, scioglietelo in un pentolino o nel microonde e tenetelo da parte. Con uno coltellino a lama liscia tritate finemente lo scalogno In un pentolino versate l’aceto l’acqua, il pepe in grani e lo scalogno e fate bollire il composto Filtrate il liquido fatto bollire, trasferendolo in una casseruola a bagnomaria (oppure predisponete un bagnomaria classico, se non si possiede una casseruola con il bagnomaria incorporato) Aggiungete anche i tuorli e muniti di frusta sbattete il composto avendo cura di continuare a sbattere costantemente, finché tutto il burro non sarà incorporato e la salsa risulterà “montata” (questa operazione richiederà più o meno 6 minuti).A questo punto togliete la casseruola dal fuoco e aggiungete il succo di limone Mettete da parte la salsa mantenendola in caldo, o trasferendola in una ciotola (a temperatura ambiente, non in frigorifero). Tostate il pan brioche in forno in padella con un filo d’olio da entrambi i lati sino a renderlo dorato e croccante Saltate in padella la pancetta a dadini finchè non saranno croccanti. Scolateli su un vassoio rivestito con carta assorbente Per ultimo dedicatevi alla cottura delle uova, così da servirle calde. In una pentola versate l’acqua e l’aceto ponetela a scaldare e, nel frattempo, rompete l'uovo in una ciotolina a parte, facendo attenzione a non danneggiare il tuorlo. Una volta che l'acqua avrà raggiunto il bollore, mescolate con una frusta per creare un vortice al centro del quale verserete l'uovo intero Attendete che l’uovo emerga leggermente. Prima di poter togliere l’uovo dall’acqua attendete un paio di minuti. Tiratelo su con la schiumarola poggiatelo su un piatto e ripetete la stessa operazione per le uova restanti. Ora componete le vostre uova alla benedettina: adagiate la rucola sul pan brioche tostato adagiate sopra l’uovo ancora tiepido Pepate a piacere e decorate il crostino con la pancetta a cubetti \n",
      "\n",
      "3. Title: Mini plumcake allo yogurt e mirtilli rossi\n",
      "   Content: Per preparare i mini plumcake allo yogurt ai mirtilli rossi, sciogliete il burro a fuoco molto dolce e lasciate intiepidire. Versate in una ciotola lo zucchero di canna, le uova dovrete ottenere un composto uniforme e spumoso. Aggiungete il burro precedentemente sciolto Quando il burro sarà incorporato, unite i due vasetti di yogurt ai mirtilli rossi (4-5), infine la farina ed il lievito setacciati Lavorate ancora con le fruste Versate il composto ottenuto in una sac-à-poche Imburrate 8 stampini da plumcake da 7X4 cm versate l’impasto arrivando ad 1 cm dal bordo Cuocete in forno statico preriscaldato, nel ripiano medio, a 185° per circa 25 min, sino a che la superficie risulterà ben dorata. Sfornate \n",
      "\n",
      "4. Title: Croque baguette\n",
      "   Content: Per preparare la croque baguette iniziate dalla realizzazione della besciamella. Ponete il latte a scaldare, senza portarlo a bollore. Versate in un tegame il burro Quando il roux avrà raggiunto un color dorato aggiungete il latte caldo Continuate a mescolare Prendete la pancetta e tagliatela in piccole listarelle Grattugiate a julienne il Groviera come se doveste farcirle, ed eliminate la mollica interna Ripetete questa operazioni per entrambe le metà delle baguette e riempite l’incavo creato con la besciamella e aggiungete anche le listarelle di pancetta Gratinate le vostre croque baguette in forno statico preriscaldato a 250° per circa 4 minuti \n",
      "\n",
      "5. Title: Capesante con insalata di frutta\n",
      "   Content: Per preparare le capesante con insalata di frutta, iniziate proprio da quest'ultima: pelate il mango quindi ricavate degli spicchi incidendo il mango fino alla parte più coriacea Quindi spremete la parte centrale, stringendola con le mani, in una ciotolina per raccogliere il succo del mango e tenete da parte: vi servirà per la salsa. Passate a pelare la papaya dividetela a metà Quindi ricavate delle fettine sottili Dividete la mela a metà senza sbucciarla, eliminate il torsolo e realizzate delle fettine da ridurre poi a bastoncini Quindi tuffateli in acqua fredda acidulata (con succo di limone) perchè non anneriscano Poi passate a preparare la salsa alla frutta: spremete il succo di 2 mandarini quindi versatelo nella ciotola in cui avevate raccolto il succo del mango Versate anche il miele Poi salate leggermente e pepate Quindi prelevate le capesante dalle conchiglie, prendendo solo la parte bianca (con la parte corallo delle capesante potreste realizzare un ottimo risotto!); salate Ora potete comporre i piatti da portata: adagiate un letto di insalata songino, disponete le fettine mango, papaya e i bastoncini di mela ben scolati quindi disponete le capesante e irrorate con la salsa di mango e mandarini \n",
      "\n",
      "6. Title: Fumetto di pesce\n",
      "   Content: Per preparare il fumetto di pesce, per prima cosa sfilettate il pesce guarda quindi mondate e sbucciate una cipolla e tagliatela in quarti Fate sciogliere il burro in un tegame la cipolla e l'aglio Aggiungete il pesce unite il pepe in grani se vi piace, insieme al prezzemolo potete utilizzare anche del timo, aggiungete in questo momento anche un pizzico di sale e lasciate sobbollire il tutto per 60 minuti a fuoco basso schiumando di tanto in tanto con l’ausilio di una schiumarola Ricordatevi di sciacquare in acqua pulita la schiumarola ogni volta che schiumate il brodo Una volta ultimata la cottura, filtrate il brodo utilizzando un colino a maglie strette Se non utilizzate subito il fumetto, lasciatelo raffreddare completamente \n",
      "\n",
      "7. Title: Panini con gocce di cioccolato\n",
      "   Content: Per preparare i panini con gocce di cioccolato come prima cosa realizzate l'impasto. Versate la farina 00 nella ciotola di una planetaria dotata di foglia (o gancio), aggiungete lo zucchero il lievito sbriciolato il latte il sale e non appena saranno ben assorbiti versate le pepite di cioccolato Quando avrete ottenuto un composto uniforme trasferitelo su un piano e lavoratelo ancora pochi secondi Pirlatelo in modo da formare una palla trasferitelo su una spianatoia e formate un filoncino Da questo dovrete ricavare 6 pezzi da 120 g Modellate ciascuna porzione di impasto in modo da creare un piccolo filoncino Trasferite all'interno di una teglia, lasciando un po' di spazio tra i panini Lasciate lievitare ancora per 30 minuti Adesso sbattete il tuorlo con l'acqua e utilizzatelo per spennellare la superficie dei panini Quando avrete ricoperto l'intera superficie \n",
      "\n",
      "8. Title: Hamburger di tacchino\n",
      "   Content: Per preparare gli hamburger di tacchino cominciate dal trito delle erbe aromatiche: rosmarino, origano e timo In un recipiente unite la carne macinata con la senape ed il trito Impastate a mano tutti gli ingredienti Dopo pochi minuti di cottura girate i dischi di melanzane così li cuocerete anche dall’altra parte dopodiché trasferite la lattuga su un vassoio con carta assorbente e tamponate delicatamente per asciugare, in questo modo non la danneggerete Infine lavate il pomodoro e dopo averlo privato del picciolo affettatelo, come per le melanzane, a fette di mezzo centimetro di spessore A questo punto tutti i vostri ingredienti sono pronti non vi resta che passare alla composizione dei medaglioni. Riprendete la carne trita dal frigo e disponetela all’interno di un coppa pasta circolare di 11 cm e che avrete adagiato su un foglio di carta forno Poi aiutatevi con il dorso di un cucchiaio a livellare la superficie per renderlo liscio Sistemate i medaglioni di carne sulla griglia rovente Per finire adagiate su un lato il Pecorino a fette e coprite con un coperchio lasciando cuocere fin quando il formaggio non sarà fuso Se volete un panino ben caldo e leggermente abbrustolito, tagliate in due parti il pane Non appena i vostri panini saranno ben caldi passate alla composizione: quindi sulla base del panino adagiate 3-4 foglie di lattuga e 4 dischi di pomodoro poi 4 fette di melanzane e infine il vostro medaglione di carne con il formaggio fuso Chiudete con l’altra metà di pane e i vostri hamburger di tacchino sono pronti per essere addentati ancora caldissimi \n",
      "\n",
      "9. Title: Pasta e piselli\n",
      "   Content: Per realizzare la pasta e piselli, mettete a bollire l'acqua in una pentola capiente e salatela quando bolle: vi servirà poi per cuocere la pasta. Intanto sgranate i piselli e raccoglieteli in una ciotola poi prendete il cipollotto, eliminate la base, dividetelo a metà nel senso della lunghezza dopodiché affettate ciascuna metà in questo modo sarà più pratico tagliarlo. Versate l’olio di oliva in un tegame, fatelo scaldare e poi versate il cipollotto appena affettato bagnate con un mestolo di acqua di cottura della pasta alate, pepate e aggiungete un altro mestolo di acqua di cottura Ora lessate anche la pasta per soli 5 minuti (o metà del tempo indicato sulla confezione) portate a cottura la pasta aggiungendo a poco a poco l’acqua di cottura, avendo cura di aspettare che sia ben assorbito il liquido prima di aggiungerne altro Ci vorranno circa 5 minuti.A cottura ultimata, insaporite con il Parmigiano Reggiano grattugiato mescolate per insaporire, salate, pepate a piacere. La vostra pasta e piselli è pronta \n",
      "\n",
      "10. Title: Frico con patate e cipolle\n",
      "   Content: Per preparare il frico con patate e cipolle, sbucciate le cipolle e grattugiatele con una grattugia a fori grossi Eliminate la scorza del formaggio Montasio Ora che gli ingredienti sono pronti, in un tegame capiente versate 40 gr di olio e la cipolla Fate soffriggere qualche minuto a fuoco dolce mescolando spesso con un cucchiaio di legno per evitare che la cipolla si attacchi al fondo della padella o si bruci. Dopodiché unite anche le patate grattugiate A questo punto unite anche il formaggio Montasio grattugiato salate e pepate a piacere (11-12) e fate cuocere il frico per circa 20 minuti a fuoco medio, mescolando per far sciogliere il formaggio completamente.Quando avrete terminato la cottura e avrete ottenuto un impasto omogeneo spegnete il fuoco. In una padella antiaderente a bordo basso versate un filo d'olio fatelo scaldare leggermente e versatel'amalgama di patate, cipolle e Montasio nella padella cercando di eliminare il grasso superfluo.Distribuite e compattate il frico nella padella Appena si sarà formata la crosticina, giratelo dall'altro lato Se ancora presente, eliminate il grasso in eccesso prima di trasferire il frico con patate e cipolle su un piatto da portata. Poi tagliatelo in porzioni e accompagnatelo con la \n",
      "\n"
     ]
    }
   ],
   "source": [
    "search({\"query\": {\"match_all\": {}}})"
   ]
  }
 ],
 "metadata": {
  "kernelspec": {
   "display_name": ".venv",
   "language": "python",
   "name": "python3"
  },
  "language_info": {
   "codemirror_mode": {
    "name": "ipython",
    "version": 3
   },
   "file_extension": ".py",
   "mimetype": "text/x-python",
   "name": "python",
   "nbconvert_exporter": "python",
   "pygments_lexer": "ipython3",
   "version": "3.13.9"
  }
 },
 "nbformat": 4,
 "nbformat_minor": 5
}
