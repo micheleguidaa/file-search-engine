{
 "cells": [
  {
   "cell_type": "code",
   "execution_count": 6,
   "id": "defa1041",
   "metadata": {},
   "outputs": [],
   "source": [
    "from elasticsearch import Elasticsearch, helpers\n",
    "import time\n",
    "import os\n",
    "\n",
    "# Connect to Elasticsearch\n",
    "ES_HOST = \"http://localhost:9200\"\n",
    "es = Elasticsearch([ES_HOST])"
   ]
  },
  {
   "cell_type": "code",
   "execution_count": 7,
   "id": "538d7bb6",
   "metadata": {},
   "outputs": [],
   "source": [
    "# Delete the index if it exists\n",
    "if es.indices.exists(index='index_recipes'):\n",
    "    es.indices.delete(index='index_recipes')"
   ]
  },
  {
   "cell_type": "code",
   "execution_count": 8,
   "id": "08252afe",
   "metadata": {},
   "outputs": [
    {
     "name": "stdout",
     "output_type": "stream",
     "text": [
      "Index 'index_recipes' with mapping created successfully.\n"
     ]
    }
   ],
   "source": [
    "# Define the mapping for the index\n",
    "mapping = {\n",
    "    \"mappings\": {\n",
    "        \"properties\": {\n",
    "            \"title\": {\"type\": \"text\",\n",
    "                      \"analyzer\": \"italian\",\n",
    "                      \"search_analyzer\": \"italian\"},\n",
    "            \"content\": {\"type\": \"text\", \n",
    "                        \"analyzer\": \"italian\",\n",
    "                        \"search_analyzer\": \"italian\"}\n",
    "        }\n",
    "    }\n",
    "}\n",
    "\n",
    "es.indices.create(index='index_recipes', body=mapping)\n",
    "print(\"Index 'index_recipes' with mapping created successfully.\")"
   ]
  },
  {
   "cell_type": "code",
   "execution_count": 9,
   "id": "ffa74d74",
   "metadata": {},
   "outputs": [],
   "source": [
    "def bulk_index(directory, index_name):\n",
    "    actions = []\n",
    "\n",
    "    for filename in os.listdir(directory):\n",
    "        if filename.endswith(\".txt\"):\n",
    "            path = os.path.join(directory, filename)\n",
    "            with open(path, \"r\", encoding=\"utf-8\", errors=\"ignore\") as f:\n",
    "                text = f.read()\n",
    "\n",
    "            # Remove file extension for title\n",
    "            title = os.path.splitext(filename)[0]\n",
    "            \n",
    "            action = {\n",
    "                \"_index\": index_name,\n",
    "                \"_source\": {\n",
    "                    \"title\": title,\n",
    "                    \"content\": text\n",
    "                }\n",
    "            }\n",
    "            actions.append(action)\n",
    "\n",
    "    # Bulk index the documents with only one call to Elasticsearch\n",
    "    if actions:\n",
    "        helpers.bulk(es, actions)\n",
    "        print(f\"{len(actions)} documents indexed in the '{index_name}' index.\")\n",
    "    else:\n",
    "        print(\"No .txt files found in the directory.\")"
   ]
  },
  {
   "cell_type": "code",
   "execution_count": 10,
   "id": "f125dc4f",
   "metadata": {},
   "outputs": [
    {
     "name": "stdout",
     "output_type": "stream",
     "text": [
      "5939 documents indexed in the 'index_recipes' index.\n",
      "Indexing took 1.5928459167480469 seconds\n"
     ]
    }
   ],
   "source": [
    "# Index documents from the 'files' directory\n",
    "before = time.time()\n",
    "bulk_index(\"files\", \"index_recipes\")\n",
    "after = time.time()\n",
    "print(f\"Indexing took {after - before} seconds\")"
   ]
  },
  {
   "cell_type": "code",
   "execution_count": 11,
   "id": "1811f7de",
   "metadata": {},
   "outputs": [],
   "source": [
    "def search(query):\n",
    "   res = es.search(index='index_recipes', body=query)\n",
    "   print(\"Search Results:\")\n",
    "   for i, hit in enumerate(res['hits']['hits']):\n",
    "    res_doc = hit['_source']\n",
    "    print(f\"{i+1}. Title: {res_doc['title']}\\n   Content: {res_doc['content']}\\n\")"
   ]
  },
  {
   "cell_type": "code",
   "execution_count": 12,
   "id": "db77c3d1",
   "metadata": {},
   "outputs": [],
   "source": [
    "# search({\"query\": {\"match_all\": {}}})\n",
    "# search({\"query\": {\"match\": {\"title\": \"burro e salvia\"}}})\n",
    "# search({\"query\": {\"match\": {\"content\": \"banane\"}}})\n",
    "# search({\"query\": {\"multi_match\": {\"query\": \"burro\", \"fields\": [\"title\",\"content\"]}}})\n",
    "# search({\"query\": {\"match_phrase\": {\"content\": \"dalla\"}}})"
   ]
  },
  {
   "cell_type": "code",
   "execution_count": 14,
   "id": "3d0ace94",
   "metadata": {},
   "outputs": [
    {
     "name": "stdout",
     "output_type": "stream",
     "text": [
      "Search Results:\n",
      "1. Title: Carbonara di verdure\n",
      "   Content: Per preparare la carbonara di verdure mettete a bollire l'acqua per la pasta e a bollore salate. Quindi lavate e asciugate tutti gli ortaggi: dopo aver tagliato via la parte più legnosa dal gambo degli asparagi pelate con un pelapatate, o un coltellino liscio in alternativa, Tagliate anche le punte per il lungo e mettete da parte Spuntate le taccole e poi di nuovo a listarelle sempre per il lungo, come per gli asparagi Stessa cosa per le carote: prima spuntatele, poi pelatele con il pelaverdure o un coltellino infine tegliate a fette e poi a bastoncini sempre per il senso della lunghezza Poi sgranate i piselli Sul fuoco mettete una padella con l’olio e lo spicchio d’aglio mondato intero. Dopo qualche istante, in cui il fondo si sarà riscaldato, potrete tuffare gli asparagi facendoli saltare 2 minuti a fiamma viva Poi unite le taccole e scottate per altri 3 minuti Il fondo si sarà un po’ asciugato a questo punto, perciò aggiungete circa 1 mestolo di acqua di cottura della pasta Unite infine i piselli Salate, pepate e fate insaporire bene il tutto per 6-7 minuti mescolando di tanto in tanto La pasta a questo punto sarà quasi pronta, versate i tuorli in una ciotola insieme al Parmigiano grattugiato Mescolate bene con una frusta Eliminate lo spicchio d’aglio dal condimento di verdure Saltate brevemente il tutto Versate nella stessa ciotola dei tuorli un po’ d’acqua della pasta e versate in padella regolando la densità della crema Quindi date un’ultima mescolata\n",
      "\n",
      "2. Title: Carbonara di salmone\n",
      "   Content: Per preparare la carbonara di salmone, per prima cosa mettete a bollire una pentola d’acqua per cuocere la pasta. Eliminate la pelle dal filetto di salmone e tagliatelo a cubetti di circa 2 cm per lato Scaldate l’olio in una padella con lo spicchio d’aglio poi aggiungete i cubetti di salmone Regolate di sale, rimuovete l’aglio dalla padella e tenete da parte Nel frattempo l’acqua sarà arrivata a bollore, quindi salate e versate gli spaghetti Mentre la pasta cuoce, mettete l’uovo e i tuorli in una ciotola Aggiungete il formaggio grattugiato poi mescolate ancora per amalgamare il tutto Scolate la pasta al dente e versatela nella padella con il salmone, accendete il fuoco moderato e mescolate brevemente aggiungendo un mestolo dell’acqua di cottura A questo punto togliete la padella dal fuoco e versate il composto di uova e Pecorino mescolando velocemente e bene, aggiungendo al bisogno altra acqua di cottura. Insaporite con un’altra macinata di pepe e servite subito la vostra carbonara di salmone\n",
      "\n",
      "3. Title: Carbonara al forno\n",
      "   Content: Per preparare la carbonara al forno mettete sul fuoco una pentola con abbondante acqua che servirà per la pasta. Nel frattempo mettete la pancetta affumicata tagliata a cubetti in un tegame antiaderente, senza l’aggiunta d’olio Con una spatola mescolate bene la pancetta facendola rosolare a fuoco medio fino a quando il grasso diventerà trasparente e leggermente croccante In una ciotola versate i tuorli e l'uovo intero sbatteteli, quindi unite il pecorino grattugiato, tenendone da parte un po' Aggiungete anche la panna e continuate a mescolare con le fruste per qualche minuto amalgamando bene tutti gli ingredienti tenendone da parte uno o due cucchiai (verrà aggiunta e gratinata alla fine insieme al pecorino avanzato). Quando l’acqua della pasta avrà raggiunto il bollore, salate moderatamente poiché la pasta avrà già un condimento molto sapido dato dalla pancetta e dal pecorino.Cuocete i bucatini per circa 10 minuti (dovranno risultare al dente) mescolando di tanto in tanto Quando la pasta sarà al dente, scolatela bene e versatela nella ciotola con il condimento di uova, aiutandovi con uno scola spaghetti o un forchettone Con due forchette amalgamate bene la pasta dopodiché con un pennello da cucina oliate una pirofila Da ultimo, cospargete tutta la superficie della pasta la pancetta Mettete in forno e fate cuocere sotto il grill a 270° per 5-7 minuti. Trascorso il tempo necessario, spegnete il forno e servite la carbonara al forno ancora calda\n",
      "\n",
      "4. Title: Carbonara vegetariana\n",
      "   Content: Per realizzare la carbonara vegetariana iniziate a preparare i peperoni gialli: lavateli e poneteli interi su una leccarda rivestita di carta da forno cuocete in forno preriscaldato statico a 250 ° per 1 ora, girandoli di tanto in tanto su tutti i lati per ottenere una cottura uniforme. Una volta che i peperoni saranno abbrustoliti, sfornateli e poneteli in un sacchetto di plastica per alimenti per farli intiepidire questo procedimento faciliterà l’eliminazione della pelle. Una volta tiepidi togliete i peperoni dal sacchetto, eliminate il picciolo, i semi, i filamenti interni e spelateli Ponete la polpa dei peperoni in un mixer Intanto tagliate a piccoli cubetti da circa 1 cm il tofu Ponete sul fuoco una padella larga, aggiungete un filo di olio Aggiungete un pizzico di paprika dolce e se preferite un gusto più piccante anche del peperoncino. Fate rosolare il tofu qualche minuto a fuoco medio;Poi versate la polpa di peperoni in padella Versate gli spaghetti nella padella con il sugo di peperoni e tofu mescolate e aggiungete un mestolo di acqua di cottura\n",
      "\n",
      "5. Title: Carbonara di asparagi\n",
      "   Content: Per preparare la carbonara di asparagi iniziate da questi ultimi. Lavateli e mondateli eliminando la parte più legnosa. Per capire quanta parte di gambo eliminare fate una leggera pressione con il dito sul gambo spezzandolo Si romperà all’altezza corretta eliminando così la parte più dura In un tegame versate dell'acqua che servirà per la cottura della pasta. Aggiungete gli scarti degli asparagi Nel frattempo tagliate a rondelle di circa 1 cm i gambi degli asparagi, mantenendo intatte le punte In una padella versate un filo d'olio, scaldate leggermente e unite gli asparagi tagliati Regolate di sale Eliminate i gambi degli asparagi salate a piacere e tuffate all'interno i tortiglioni Portate la pasta a cottura e nel frattempo in una ciotola unite i tuorli, un mestolo di acqua di cottura e Pecorino grattugiato Mescolate bene e tenere da parte. Scolate i tortiglioni al dente mescoalte. Poi spostate la padella dal fuoco, aggiungete la crema di tuorli e pecorino e mescolate bene e velocemente Aggiungete pepe nero a piacere mescolate ancora una volta e servite\n",
      "\n",
      "6. Title: Finta carbonara\n",
      "   Content: Per preparare la finta carbonara iniziate prendendo i peperoni gialli e, dopo averli lavati accuratamente, metteteli in una teglia ponendoli su della carta forno Infornate i peperoni a 250 gradi in forno statico per 40-45 minuti (in forno ventilato a 230 gradi per circa 35 minuti) Appena cotti, mettete i peperoni in un sacchetto e lasciateli intiepidire per una decina di minuti, questo procedimento faciliterà il distacco della pelle e vi permetterà di pelarli con maggiore facilità Mentre i peperoni si intiepidiscono, prendete la mortadella e tagliatela a cubetti Una volta fatto questo, mettete a rosolare i cubetti di mortadella in una capiente padella antiaderente, senza l'aggiunta di olio, Prendete i peperoni e puliteli: togliete il picciolo, la pelle e i semini aiutandovi con un coltello Una volta puliti, mettete i peperoni nel mixer Aggiungete la crema di peperoni alla mortadella Aggiustate di sale e pepe Nel frattempo mettete a cuocere gli spaghetti in abbondante acqua bollente salata.Quando gli spaghetti saranno al dente, scolateli avendo cura di lasciare 1-2 mestoli di acqua di cottura da parte Fate saltare gli spaghetti insieme alla salsa di peperoni e mortadella direttamente in padella, allungando con 1-2 mestoli di acqua di cottura e cuocendo a fuoco basso per un paio di minuti in modo da amalgamare il tutto Aggiungete un filo di olio extravergine di oliva e la vostra finta carbonara è pronta!\n",
      "\n",
      "7. Title: Carbonara di mare\n",
      "   Content: Per preparare la carbonara di mare cominciate mettendo sul fuoco l’acqua per la pasta da salare a bollore. Intanto separate le uova, per questa ricetta occorrono 6 tuorli Versateli in una ciotola e aggiungete il Parmigiano grattugiato le foglioline di timo, il sale e il pepe Mescolate con una frusta e tenete da parte Assicuratevi che non ci siano lische nel salmone e tagliatelo a cubetti di circa 2 cm Private della pelle il pesce spada e tagliate anche questo a cubetti della stessa dimensione In ultimo tagliate a cubetti, sempre di un paio di cm, anche il tonno A questo punto l’acqua dovrebbe essere a bollore, buttate la pasta e cuocetela per 2 minuti in meno rispetto al tempo indicato sulla confezione Nel frattempo scaldate un filo d'olio in una padella e unite lo spicchio d’aglio sbucciato Non appena il fondo è caldo tuffate i cubetti di pesce Rimettete la padella sul fuoco e deglassate il fondo di cottura con il vino bianco Quando l’alcol sarà completamente evaporato prelevate un mestolo d’acqua di cottura della pasta e versatela nella padella Scolate gli spaghetti molto al dente e ultimate la cottura nella padella: mescolate continuamente affinché la pasta rilasci gli amidi Quando la pasta è pronta aggiungete i cubetti di pesce Infine togliete la padella dal fuoco e versate la crema di tuorli e formaggio Mescolate al bisogno potete aggiungere un po' di acqua della pasta, e poi completate con pepe e Parmigiano grattugiato a piacere. Impiattate\n",
      "\n",
      "8. Title: Spaghetti alla Carbonara\n",
      "   Content: Per preparare gli spaghetti alla carbonara cominciate mettendo sul fuoco una pentola con l’acqua salata per cuocere la pasta. Nel frattempo eliminate la cotenna dal guanciale La cotenna avanzata potrà essere riutilizzata per insaporire altre preparazioni. Versate i pezzetti in una padella antiaderente Nel frattempo tuffate gli spaghetti nell’acqua bollente aggiungete anche la maggior parte del Pecorino previsto dalla ricetta Insaporite con il pepe nero amalgamate tutto con una frusta a mano Aggiungete un cucchiaio di acqua di cottura per diluire il composto e mescolate Intanto il guanciale sarà giunto a cottura, spegnete il fuoco e tenetelo da parte Scolate la pasta al dente direttamente nel tegame con il guanciale Per renderla ben cremosa, al bisogno, potete aggiungere poca acqua di cottura della pasta Servite subito gli spaghetti alla carbonara insaporendoli con il Pecorino avanzato\n",
      "\n",
      "9. Title: Paccheri con carciofi alla carbonara\n",
      "   Content: Per preparare i paccheri con carciofi alla carbonara, per prima cosa poi in quarti e infine a listarelle sottili Man a mano che li tagliate, mettete i carciofi in una ciotola con acqua acidulata per evitare che anneriscano.Sbucciate lo scalogno e tritatelo finemente, poi mettete sul fuoco una pentola di acqua che servirà per cuocere la pasta. Versate l’olio in una padella, aggiungete lo scalogno tritato alzate la fiamma e fate rosolare per 2-3 minuti, poi sfumate con il vino bianco A questo punto aggiungete i carciofi che avrete scolato dall’acqua acidulata e salate. Versate un mestolo di acqua calda nella padella abbassate leggermente la fiamma e lasciate cuocere per 10-12 minuti fino a che i carciofi non si saranno ammorbiditi, mescolando ogni tanto. Quando l’acqua per la pasta sarà arrivata a bollore, salate e lessate i paccheri per il tempo indicato sulla confezione Nel frattempo versate i tuorli in una ciotola a parte, aggiungete il Parmigiano poi mescolate con una frusta per amalgamare bene il tutto e ottenere una crema piuttosto densa Quando i paccheri saranno cotti, versateli nella padella con il condimento mescolate a fiamma moderata e lasciate insaporire brevemente, poi spegnete il fuoco e versate il composto di uova nella padella Mescolate bene e servite subito i vostri paccheri con carciofi alla carbonara\n",
      "\n",
      "10. Title: Pasta alla carbonara di zucchine\n",
      "   Content: Per realizzare la pasta alla carbonara di zucchine per prima cosa lavate e spuntate le zucchine, quindi tagliatele a bastoncini Nel frattempo ponete sul fuoco una pentola colma di acqua salata e portate al bollore, servirà per la cottura della pasta. In un tegame scaldate l'olio di oliva Aggiungete le zucchine Versate un mestolo di acqua di cottura della pasta Intanto cuocete la pasta per il tempo indicato sulla confezione Salate e pepate le zucchine rosolate A fuoco spento incorporate il composto di tuorli e formaggio Mescolate per amalgamare servite la pasta alla carbonara di zucchine\n",
      "\n"
     ]
    }
   ],
   "source": [
    "# Ask to user to insert a query\n",
    "query = input(\"Enter your search query: \")\n",
    "\n",
    "# Parsing the user input into a match query for content field\n",
    "type_query = query.split(\":\", 1)[0]\n",
    "content_query = query.split(\":\", 1)[1].strip()\n",
    "\n",
    "if type_query == \"title\":\n",
    "    if content_query.startswith('\"') and content_query.endswith('\"'):\n",
    "        phrase = content_query.strip('\"')\n",
    "        search({\"query\": {\"match_phrase\": {\"title\": phrase}}})\n",
    "    else:\n",
    "        search({\"query\": {\"match\": {\"title\": content_query}}})\n",
    "elif type_query == \"content\":\n",
    "    if content_query.startswith('\"') and content_query.endswith('\"'):\n",
    "        phrase = content_query.strip('\"')\n",
    "        search({\"query\": {\"match_phrase\": {\"content\": phrase}}})\n",
    "    else:\n",
    "        search({\"query\": {\"match\": {\"content\": content_query}}})"
   ]
  }
 ],
 "metadata": {
  "kernelspec": {
   "display_name": ".venv",
   "language": "python",
   "name": "python3"
  },
  "language_info": {
   "codemirror_mode": {
    "name": "ipython",
    "version": 3
   },
   "file_extension": ".py",
   "mimetype": "text/x-python",
   "name": "python",
   "nbconvert_exporter": "python",
   "pygments_lexer": "ipython3",
   "version": "3.13.9"
  }
 },
 "nbformat": 4,
 "nbformat_minor": 5
}
